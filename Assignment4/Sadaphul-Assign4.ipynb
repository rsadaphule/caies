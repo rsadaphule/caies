{
 "cells": [
  {
   "cell_type": "markdown",
   "id": "6c93f59a",
   "metadata": {},
   "source": [
    "Download Amazon music summary music ser.\n",
    "Retrieve the summary column, perform tokenization, stemming, and lemmatization by creating a python script that prints out the summary information.  Detail and run the python from a jupyter notebook.  Publish the python script and notebook to your github repository.  Create a docker image that runs the python and publish to your docker repository.  Submit both links."
   ]
  },
  {
   "cell_type": "code",
   "execution_count": null,
   "id": "c00f7320",
   "metadata": {},
   "outputs": [],
   "source": [
    "import numpy as np \n",
    "import pandas as pd\n",
    "import nltk\n"
   ]
  },
  {
   "cell_type": "code",
   "execution_count": 3,
   "id": "8a0686e1",
   "metadata": {},
   "outputs": [
    {
     "name": "stdout",
     "output_type": "stream",
     "text": [
      "showing info https://raw.githubusercontent.com/nltk/nltk_data/gh-pages/index.xml\n"
     ]
    },
    {
     "data": {
      "text/plain": [
       "True"
      ]
     },
     "execution_count": 3,
     "metadata": {},
     "output_type": "execute_result"
    }
   ],
   "source": [
    "nltk.download()"
   ]
  },
  {
   "cell_type": "code",
   "execution_count": 4,
   "id": "251620f2",
   "metadata": {},
   "outputs": [
    {
     "data": {
      "text/html": [
       "<div>\n",
       "<style scoped>\n",
       "    .dataframe tbody tr th:only-of-type {\n",
       "        vertical-align: middle;\n",
       "    }\n",
       "\n",
       "    .dataframe tbody tr th {\n",
       "        vertical-align: top;\n",
       "    }\n",
       "\n",
       "    .dataframe thead th {\n",
       "        text-align: right;\n",
       "    }\n",
       "</style>\n",
       "<table border=\"1\" class=\"dataframe\">\n",
       "  <thead>\n",
       "    <tr style=\"text-align: right;\">\n",
       "      <th></th>\n",
       "      <th>reviewerID</th>\n",
       "      <th>asin</th>\n",
       "      <th>reviewerName</th>\n",
       "      <th>helpful</th>\n",
       "      <th>reviewText</th>\n",
       "      <th>overall</th>\n",
       "      <th>summary</th>\n",
       "      <th>unixReviewTime</th>\n",
       "      <th>reviewTime</th>\n",
       "    </tr>\n",
       "  </thead>\n",
       "  <tbody>\n",
       "    <tr>\n",
       "      <th>0</th>\n",
       "      <td>A2IBPI20UZIR0U</td>\n",
       "      <td>1384719342</td>\n",
       "      <td>cassandra tu \"Yeah, well, that's just like, u...</td>\n",
       "      <td>[0, 0]</td>\n",
       "      <td>Not much to write about here, but it does exac...</td>\n",
       "      <td>5.0</td>\n",
       "      <td>good</td>\n",
       "      <td>1393545600</td>\n",
       "      <td>02 28, 2014</td>\n",
       "    </tr>\n",
       "    <tr>\n",
       "      <th>1</th>\n",
       "      <td>A14VAT5EAX3D9S</td>\n",
       "      <td>1384719342</td>\n",
       "      <td>Jake</td>\n",
       "      <td>[13, 14]</td>\n",
       "      <td>The product does exactly as it should and is q...</td>\n",
       "      <td>5.0</td>\n",
       "      <td>Jake</td>\n",
       "      <td>1363392000</td>\n",
       "      <td>03 16, 2013</td>\n",
       "    </tr>\n",
       "    <tr>\n",
       "      <th>2</th>\n",
       "      <td>A195EZSQDW3E21</td>\n",
       "      <td>1384719342</td>\n",
       "      <td>Rick Bennette \"Rick Bennette\"</td>\n",
       "      <td>[1, 1]</td>\n",
       "      <td>The primary job of this device is to block the...</td>\n",
       "      <td>5.0</td>\n",
       "      <td>It Does The Job Well</td>\n",
       "      <td>1377648000</td>\n",
       "      <td>08 28, 2013</td>\n",
       "    </tr>\n",
       "    <tr>\n",
       "      <th>3</th>\n",
       "      <td>A2C00NNG1ZQQG2</td>\n",
       "      <td>1384719342</td>\n",
       "      <td>RustyBill \"Sunday Rocker\"</td>\n",
       "      <td>[0, 0]</td>\n",
       "      <td>Nice windscreen protects my MXL mic and preven...</td>\n",
       "      <td>5.0</td>\n",
       "      <td>GOOD WINDSCREEN FOR THE MONEY</td>\n",
       "      <td>1392336000</td>\n",
       "      <td>02 14, 2014</td>\n",
       "    </tr>\n",
       "    <tr>\n",
       "      <th>4</th>\n",
       "      <td>A94QU4C90B1AX</td>\n",
       "      <td>1384719342</td>\n",
       "      <td>SEAN MASLANKA</td>\n",
       "      <td>[0, 0]</td>\n",
       "      <td>This pop filter is great. It looks and perform...</td>\n",
       "      <td>5.0</td>\n",
       "      <td>No more pops when I record my vocals.</td>\n",
       "      <td>1392940800</td>\n",
       "      <td>02 21, 2014</td>\n",
       "    </tr>\n",
       "  </tbody>\n",
       "</table>\n",
       "</div>"
      ],
      "text/plain": [
       "       reviewerID        asin  \\\n",
       "0  A2IBPI20UZIR0U  1384719342   \n",
       "1  A14VAT5EAX3D9S  1384719342   \n",
       "2  A195EZSQDW3E21  1384719342   \n",
       "3  A2C00NNG1ZQQG2  1384719342   \n",
       "4   A94QU4C90B1AX  1384719342   \n",
       "\n",
       "                                       reviewerName   helpful  \\\n",
       "0  cassandra tu \"Yeah, well, that's just like, u...    [0, 0]   \n",
       "1                                              Jake  [13, 14]   \n",
       "2                     Rick Bennette \"Rick Bennette\"    [1, 1]   \n",
       "3                         RustyBill \"Sunday Rocker\"    [0, 0]   \n",
       "4                                     SEAN MASLANKA    [0, 0]   \n",
       "\n",
       "                                          reviewText  overall  \\\n",
       "0  Not much to write about here, but it does exac...      5.0   \n",
       "1  The product does exactly as it should and is q...      5.0   \n",
       "2  The primary job of this device is to block the...      5.0   \n",
       "3  Nice windscreen protects my MXL mic and preven...      5.0   \n",
       "4  This pop filter is great. It looks and perform...      5.0   \n",
       "\n",
       "                                 summary  unixReviewTime   reviewTime  \n",
       "0                                   good      1393545600  02 28, 2014  \n",
       "1                                   Jake      1363392000  03 16, 2013  \n",
       "2                   It Does The Job Well      1377648000  08 28, 2013  \n",
       "3          GOOD WINDSCREEN FOR THE MONEY      1392336000  02 14, 2014  \n",
       "4  No more pops when I record my vocals.      1392940800  02 21, 2014  "
      ]
     },
     "execution_count": 4,
     "metadata": {},
     "output_type": "execute_result"
    }
   ],
   "source": [
    "data = pd.read_csv('../data/Musical_instruments_reviews.csv')\n",
    "data.head()"
   ]
  },
  {
   "cell_type": "code",
   "execution_count": 11,
   "id": "105f3c93",
   "metadata": {},
   "outputs": [],
   "source": [
    "stem = data[\"summary\"].values"
   ]
  },
  {
   "cell_type": "code",
   "execution_count": 12,
   "id": "a4999c65",
   "metadata": {},
   "outputs": [
    {
     "data": {
      "text/plain": [
       "array(['good', 'Jake', 'It Does The Job Well', ..., 'Good for coated.',\n",
       "       'Taylor Made',\n",
       "       \"These strings are really quite good, but I wouldn't call them perfect\"],\n",
       "      dtype=object)"
      ]
     },
     "execution_count": 12,
     "metadata": {},
     "output_type": "execute_result"
    }
   ],
   "source": [
    "stem"
   ]
  },
  {
   "cell_type": "markdown",
   "id": "f5c7a5da",
   "metadata": {},
   "source": [
    "## Tokenizing"
   ]
  },
  {
   "cell_type": "code",
   "execution_count": 18,
   "id": "9da7d9a2",
   "metadata": {},
   "outputs": [
    {
     "name": "stdout",
     "output_type": "stream",
     "text": [
      "It Does The Job Well\n"
     ]
    }
   ],
   "source": [
    "#Word Tokenize\n",
    "#Lets up up 2nd element from data frame\n",
    "strInput = stem[2]\n",
    "print(strInput)\n"
   ]
  },
  {
   "cell_type": "code",
   "execution_count": 19,
   "id": "5b3770c7",
   "metadata": {},
   "outputs": [
    {
     "data": {
      "text/plain": [
       "['It', 'Does', 'The', 'Job', 'Well']"
      ]
     },
     "execution_count": 19,
     "metadata": {},
     "output_type": "execute_result"
    }
   ],
   "source": [
    "wtokens = nltk.word_tokenize(strInput)\n",
    "wtokens"
   ]
  },
  {
   "cell_type": "code",
   "execution_count": 23,
   "id": "47ffe94d",
   "metadata": {},
   "outputs": [
    {
     "data": {
      "text/plain": [
       "['It', 'Does', 'The', 'Job', 'Well']"
      ]
     },
     "execution_count": 23,
     "metadata": {},
     "output_type": "execute_result"
    }
   ],
   "source": [
    "#Social media tokens\n",
    "ctokens = nltk.casual_tokenize(strInput)\n",
    "ctokens"
   ]
  },
  {
   "cell_type": "code",
   "execution_count": 24,
   "id": "152b3dab",
   "metadata": {},
   "outputs": [
    {
     "data": {
      "text/plain": [
       "['It Does The Job Well']"
      ]
     },
     "execution_count": 24,
     "metadata": {},
     "output_type": "execute_result"
    }
   ],
   "source": [
    "#sentence tokens\n",
    "stokens = nltk.sent_tokenize(strInput)\n",
    "stokens"
   ]
  },
  {
   "cell_type": "markdown",
   "id": "14b7608f",
   "metadata": {},
   "source": [
    "## Stemming"
   ]
  },
  {
   "cell_type": "code",
   "execution_count": 27,
   "id": "ad3f899d",
   "metadata": {},
   "outputs": [],
   "source": [
    "from nltk.stem.porter import PorterStemmer\n",
    "from nltk.stem.lancaster import LancasterStemmer\n",
    "from nltk.stem import SnowballStemmer"
   ]
  },
  {
   "cell_type": "code",
   "execution_count": 41,
   "id": "3089a40b",
   "metadata": {},
   "outputs": [],
   "source": [
    "def get_tokens(sent):\n",
    "    return nltk.word_tokenize(sent)\n",
    "\n",
    "def get_stemmed(tokens):\n",
    "    stemmed = []\n",
    "    for token in tokens:\n",
    "        stemmed.append(PorterStemmer().stem(token))\n",
    "        #stemmed.append(LancasterStemmer().stem(token))\n",
    "        #stemmed.append(SnowballStemmer('english').stem(token))\n",
    "    return stemmed"
   ]
  },
  {
   "cell_type": "code",
   "execution_count": 42,
   "id": "2496bca5",
   "metadata": {},
   "outputs": [
    {
     "data": {
      "text/plain": [
       "['it', 'doe', 'the', 'job', 'well']"
      ]
     },
     "execution_count": 42,
     "metadata": {},
     "output_type": "execute_result"
    }
   ],
   "source": [
    "stemmed = get_stemmed(get_tokens(strInput))\n",
    "stemmed"
   ]
  },
  {
   "cell_type": "markdown",
   "id": "510ce5f1",
   "metadata": {},
   "source": [
    "## Lemmatization"
   ]
  },
  {
   "cell_type": "code",
   "execution_count": 52,
   "id": "3018cb2c",
   "metadata": {},
   "outputs": [],
   "source": [
    "from nltk.stem.wordnet import WordNetLemmatizer\n",
    "lemm = WordNetLemmatizer()\n",
    "\n",
    "def do_lemma(tokens):\n",
    "    lemms = []\n",
    "    for token in tokens:\n",
    "        lemms.append(lemm.lemmatize(token, 'v'))\n",
    "    result = dict(zip(tokens, lemms))\n",
    "    return result"
   ]
  },
  {
   "cell_type": "code",
   "execution_count": 53,
   "id": "68bd0efb",
   "metadata": {},
   "outputs": [
    {
     "name": "stdout",
     "output_type": "stream",
     "text": [
      "{tokens:lemmas} {'It': 'It', 'Does': 'Does', 'The': 'The', 'Job': 'Job', 'Well': 'Well'}\n"
     ]
    }
   ],
   "source": [
    "lemmed = do_lemma(get_tokens(strInput))\n",
    "print(\"{tokens:lemmas}\", lemmed)"
   ]
  },
  {
   "cell_type": "code",
   "execution_count": 55,
   "id": "c1220ac3",
   "metadata": {},
   "outputs": [
    {
     "name": "stdout",
     "output_type": "stream",
     "text": [
      "{tokens:lemmas} {'I': 'I', 'recorded': 'record', 'and': 'and', 'payed': 'pay', 'the': 'the', 'song': 'song', 'very': 'very', 'well': 'well'}\n"
     ]
    }
   ],
   "source": [
    "lemmed = do_lemma(get_tokens(\"I recorded and payed the song very well\"))\n",
    "print(\"{tokens:lemmas}\", lemmed)"
   ]
  },
  {
   "cell_type": "code",
   "execution_count": null,
   "id": "2f1132fd",
   "metadata": {},
   "outputs": [],
   "source": []
  }
 ],
 "metadata": {
  "kernelspec": {
   "display_name": "Python 3 (ipykernel)",
   "language": "python",
   "name": "python3"
  },
  "language_info": {
   "codemirror_mode": {
    "name": "ipython",
    "version": 3
   },
   "file_extension": ".py",
   "mimetype": "text/x-python",
   "name": "python",
   "nbconvert_exporter": "python",
   "pygments_lexer": "ipython3",
   "version": "3.9.12"
  }
 },
 "nbformat": 4,
 "nbformat_minor": 5
}
