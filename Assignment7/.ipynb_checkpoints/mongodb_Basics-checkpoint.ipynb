{
 "cells": [
  {
   "cell_type": "markdown",
   "id": "93fba13a-387a-42a7-8a71-01485dcfca21",
   "metadata": {},
   "source": [
    "# Install Library, if necessary"
   ]
  },
  {
   "cell_type": "code",
   "execution_count": null,
   "id": "b8c24800-26f1-42d1-9fd2-bcbf06e7f0ce",
   "metadata": {},
   "outputs": [],
   "source": [
    "#Install Library if necessary\n",
    "!pip install pymongo"
   ]
  },
  {
   "cell_type": "markdown",
   "id": "ca71f24a-a32e-4bca-8fa6-e625fb8f9816",
   "metadata": {},
   "source": [
    "# Import main mongo class"
   ]
  },
  {
   "cell_type": "code",
   "execution_count": null,
   "id": "5cda7c63-ac37-42ac-a450-5824be45beff",
   "metadata": {},
   "outputs": [],
   "source": [
    "from pymongo import MongoClient"
   ]
  },
  {
   "cell_type": "markdown",
   "id": "31d7116e-81cc-4ba0-ab08-ad2919d8110b",
   "metadata": {
    "tags": []
   },
   "source": [
    "# Connect to mongo database"
   ]
  },
  {
   "cell_type": "code",
   "execution_count": null,
   "id": "4fc4dd06-c07f-40e9-97dc-94e1d02265a6",
   "metadata": {},
   "outputs": [],
   "source": [
    "client = MongoClient(\"localhost\", 27017)"
   ]
  },
  {
   "cell_type": "markdown",
   "id": "83c23481-ef35-4ab5-b877-5756766d8232",
   "metadata": {},
   "source": [
    "# List current databases in mongo"
   ]
  },
  {
   "cell_type": "code",
   "execution_count": 6,
   "id": "199ca5aa-8a6d-40ad-85fe-070241ac0cc6",
   "metadata": {},
   "outputs": [
    {
     "name": "stdout",
     "output_type": "stream",
     "text": [
      "['admin', 'config', 'local', 'speeddating']\n"
     ]
    }
   ],
   "source": [
    "dbs = client.list_database_names()\n",
    "print(dbs)"
   ]
  },
  {
   "cell_type": "markdown",
   "id": "0062468b",
   "metadata": {},
   "source": [
    "# Load speeddating database and show collection names"
   ]
  },
  {
   "cell_type": "code",
   "execution_count": 10,
   "id": "7b11a5cf-aa9f-4e0c-a565-d0324b0c20df",
   "metadata": {},
   "outputs": [
    {
     "data": {
      "text/plain": [
       "['events']"
      ]
     },
     "execution_count": 10,
     "metadata": {},
     "output_type": "execute_result"
    }
   ],
   "source": [
    "mydb = client[\"speeddating\"]\n",
    "mydb.list_collection_names()"
   ]
  },
  {
   "cell_type": "markdown",
   "id": "bfc66d87",
   "metadata": {},
   "source": [
    "# Load events collection and show one of the documents"
   ]
  },
  {
   "cell_type": "code",
   "execution_count": 12,
   "id": "117b1dea",
   "metadata": {},
   "outputs": [
    {
     "name": "stdout",
     "output_type": "stream",
     "text": [
      "{'_id': ObjectId('640581e69204cfba37b6dda7'), 'iid': 1, 'id': 1, 'gender': 0, 'idg': 1, 'condtn': 1, 'wave': 1, 'round': 10, 'position': 7, 'positin1': '', 'order': 4, 'partner': 1, 'pid': 11, 'match': 0, 'int_corr': 0.14, 'samerace': 0, 'age_o': 27, 'race_o': 2, 'pf_o_att': 35, 'pf_o_sin': 20, 'pf_o_int': 20, 'pf_o_fun': 20, 'pf_o_amb': 0, 'pf_o_sha': 5, 'dec_o': 0, 'attr_o': 6, 'sinc_o': 8, 'intel_o': 8, 'fun_o': 8, 'amb_o': 8, 'shar_o': 6, 'like_o': 7, 'prob_o': 4, 'met_o': 2, 'age': 21, 'field_cd': 1, 'undergra': '', 'mn_sat': '', 'tuition': '', 'race': 4, 'imprace': 2, 'imprelig': 4, 'from': 'Chicago', 'zipcode': 60521, 'income': 69487, 'goal': 2, 'date': 7, 'go_out': 1, 'career': 'lawyer', 'career_c': '', 'sports': 9, 'tvsports': 2, 'exercise': 8, 'dining': 9, 'museums': 1, 'art': 1, 'hiking': 5, 'gaming': 1, 'clubbing': 5, 'reading': 6, 'tv': 9, 'theater': 1, 'movies': 10, 'concerts': 10, 'music': 9, 'shopping': 8, 'yoga': 1, 'exphappy': 3, 'expnum': 2, 'attr1_1': 15, 'sinc1_1': 20, 'intel1_1': 20, 'fun1_1': 15, 'amb1_1': 15, 'shar1_1': 15, 'attr4_1': '', 'sinc4_1': '', 'intel4_1': '', 'fun4_1': '', 'amb4_1': '', 'shar4_1': '', 'attr2_1': 35, 'sinc2_1': 20, 'intel2_1': 15, 'fun2_1': 20, 'amb2_1': 5, 'shar2_1': 5, 'attr3_1': 6, 'sinc3_1': 8, 'fun3_1': 8, 'intel3_1': 8, 'amb3_1': 7, 'attr5_1': '', 'sinc5_1': '', 'intel5_1': '', 'fun5_1': '', 'amb5_1': '', 'dec': 1, 'attr': 6, 'sinc': 9, 'intel': 7, 'fun': 7, 'amb': 6, 'shar': 5, 'like': 7, 'prob': 6, 'met': 2, 'match_es': 4, 'attr1_s': '', 'sinc1_s': '', 'intel1_s': '', 'fun1_s': '', 'amb1_s': '', 'shar1_s': '', 'attr3_s': '', 'sinc3_s': '', 'intel3_s': '', 'fun3_s': '', 'amb3_s': '', 'satis_2': 6, 'length': 2, 'numdat_2': 1, 'attr7_2': '', 'sinc7_2': '', 'intel7_2': '', 'fun7_2': '', 'amb7_2': '', 'shar7_2': '', 'attr1_2': 19.44, 'sinc1_2': 16.67, 'intel1_2': 13.89, 'fun1_2': 22.22, 'amb1_2': 11.11, 'shar1_2': 16.67, 'attr4_2': '', 'sinc4_2': '', 'intel4_2': '', 'fun4_2': '', 'amb4_2': '', 'shar4_2': '', 'attr2_2': '', 'sinc2_2': '', 'intel2_2': '', 'fun2_2': '', 'amb2_2': '', 'shar2_2': '', 'attr3_2': 6, 'sinc3_2': 7, 'intel3_2': 8, 'fun3_2': 7, 'amb3_2': 6, 'attr5_2': '', 'sinc5_2': '', 'intel5_2': '', 'fun5_2': '', 'amb5_2': '', 'you_call': 1, 'them_cal': 1, 'date_3': 0, 'numdat_3': '', 'num_in_3': '', 'attr1_3': 15, 'sinc1_3': 20, 'intel1_3': 20, 'fun1_3': 15, 'amb1_3': 15, 'shar1_3': 15, 'attr7_3': '', 'sinc7_3': '', 'intel7_3': '', 'fun7_3': '', 'amb7_3': '', 'shar7_3': '', 'attr4_3': '', 'sinc4_3': '', 'intel4_3': '', 'fun4_3': '', 'amb4_3': '', 'shar4_3': '', 'attr2_3': '', 'sinc2_3': '', 'intel2_3': '', 'fun2_3': '', 'amb2_3': '', 'shar2_3': '', 'attr3_3': 5, 'sinc3_3': 7, 'intel3_3': 7, 'fun3_3': 7, 'amb3_3': 7, 'attr5_3': '', 'sinc5_3': '', 'intel5_3': '', 'fun5_3': '', 'amb5_3': ''}\n"
     ]
    }
   ],
   "source": [
    "mycol = mydb[\"events\"]\n",
    "# Find one document in the collection\n",
    "document = mycol.find_one()\n",
    "# Print the document\n",
    "print(document)"
   ]
  },
  {
   "cell_type": "markdown",
   "id": "0d623fbb",
   "metadata": {},
   "source": [
    "# Contrast Neo4j and Mongdb databases\n",
    "here's a brief comparison of Neo4j and MongoDB, including their advantages and disadvantages, and the types of situations where they are best suited:\n",
    "\n",
    "*Neo4j\n",
    "Neo4j is a graph database that is optimized for managing highly connected data. It is designed to efficiently handle complex relationships between data elements, making it ideal for applications such as social networking, recommendation systems, and fraud detection.\n",
    "\n",
    "*Advantages:\n",
    "\n",
    "Graph databases are highly efficient for managing complex relationships between data elements\n",
    "Neo4j has a flexible data model that can easily accommodate changes in data schema\n",
    "Neo4j has a powerful query language, Cypher, that allows for complex queries on graph data\n",
    "Neo4j can easily scale horizontally to handle large datasets\n",
    "Disadvantages:\n",
    "\n",
    "Neo4j can be more difficult to set up and manage than other types of databases\n",
    "Neo4j may not be well-suited for applications that do not require complex relationship management\n",
    "Neo4j can be expensive to scale horizontally, depending on the size of the dataset\n",
    "Best suited for:\n",
    "\n",
    "Applications with highly connected data, such as social networking, recommendation systems, and fraud detection\n",
    "Applications where complex queries on graph data are required\n",
    "Applications where the data schema is likely to change frequently\n",
    "MongoDB\n",
    "MongoDB is a document-oriented database that is designed to handle unstructured data. It is optimized for scalability and performance, making it ideal for applications with large volumes of data.\n",
    "\n",
    "*Advantages:\n",
    "\n",
    "MongoDB is highly scalable and can easily handle large volumes of data\n",
    "MongoDB has a flexible data model that can accommodate unstructured and semi-structured data\n",
    "MongoDB has a powerful query language that can handle complex queries on large datasets\n",
    "MongoDB is easy to set up and manage, especially compared to some other types of databases\n",
    "Disadvantages:\n",
    "\n",
    "MongoDB may not be well-suited for applications with highly connected data\n",
    "MongoDB can be less efficient for handling complex relationships between data elements\n",
    "MongoDB's flexible data model can make it more difficult to maintain data consistency\n",
    "Best suited for:\n",
    "\n",
    "Applications with large volumes of unstructured or semi-structured data, such as web analytics, content management, and e-commerce\n",
    "Applications where horizontal scaling is required\n",
    "Applications where data schema changes frequently or is not well-defined\n",
    "In summary, Neo4j is best suited for applications with highly connected data and complex relationships between data elements, while MongoDB is best suited for applications with large volumes of unstructured or semi-structured data, where horizontal scaling and flexibility in data schema are required."
   ]
  },
  {
   "cell_type": "code",
   "execution_count": null,
   "id": "48b0f2af",
   "metadata": {},
   "outputs": [],
   "source": []
  }
 ],
 "metadata": {
  "kernelspec": {
   "display_name": "Python 3",
   "language": "python",
   "name": "python3"
  },
  "language_info": {
   "codemirror_mode": {
    "name": "ipython",
    "version": 3
   },
   "file_extension": ".py",
   "mimetype": "text/x-python",
   "name": "python",
   "nbconvert_exporter": "python",
   "pygments_lexer": "ipython3",
   "version": "3.8.10"
  }
 },
 "nbformat": 4,
 "nbformat_minor": 5
}
